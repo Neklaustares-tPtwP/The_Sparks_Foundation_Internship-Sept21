{
 "cells": [
  {
   "cell_type": "markdown",
   "id": "d6a46be4",
   "metadata": {},
   "source": [
    "# TASK-1: Optical Character Recognition (OCR)"
   ]
  },
  {
   "cell_type": "markdown",
   "id": "b7ce5242",
   "metadata": {},
   "source": [
    "### AUTHOR: Subham Surana"
   ]
  },
  {
   "cell_type": "markdown",
   "id": "0809612c",
   "metadata": {},
   "source": [
    "### PROBLEM STATEMENT: Character detector which extracts printed or handwritten text from an image/video"
   ]
  },
  {
   "cell_type": "markdown",
   "id": "971e8118",
   "metadata": {},
   "source": [
    "## Importing Libraries"
   ]
  },
  {
   "cell_type": "code",
   "execution_count": 1,
   "id": "e351a970",
   "metadata": {},
   "outputs": [],
   "source": [
    "import cv2\n",
    "import pytesseract\n",
    "pytesseract.pytesseract.tesseract_cmd = 'C:\\\\Program Files\\\\Tesseract-OCR\\\\tesseract.exe'"
   ]
  },
  {
   "cell_type": "markdown",
   "id": "f38c4474",
   "metadata": {},
   "source": [
    "## Image Preprocessing"
   ]
  },
  {
   "cell_type": "code",
   "execution_count": 2,
   "id": "6e3a419f",
   "metadata": {},
   "outputs": [],
   "source": [
    "# gray scale\n",
    "def gray(img):\n",
    "    img = cv2.cvtColor(img, cv2.COLOR_BGR2GRAY)\n",
    "    cv2.imwrite(r\"./preprocess/img_gray.png\",img)\n",
    "    return img\n",
    "\n",
    "# blur\n",
    "def blur(img) :\n",
    "    img_blur = cv2.GaussianBlur(img,(5,5),0)\n",
    "    cv2.imwrite(r\"./preprocess/img_blur.png\",img)    \n",
    "    return img_blur\n",
    "\n",
    "# threshold\n",
    "def threshold(img):\n",
    "    #pixels with value below 100 are turned black (0) and those with higher value are turned white (255)\n",
    "    img = cv2.threshold(img, 100, 255, cv2.THRESH_OTSU | cv2.THRESH_BINARY)[1]    \n",
    "    cv2.imwrite(r\"./preprocess/img_threshold.png\",img)\n",
    "    return img"
   ]
  },
  {
   "cell_type": "code",
   "execution_count": 13,
   "id": "eca1771b",
   "metadata": {},
   "outputs": [],
   "source": [
    "# img = cv2.imread(\"make-textedit-on-mac-like-windows-notepad-610x310.jpg\")\n",
    "# img = cv2.imread(\"ios13-iphone-xs-messages-sms-mms.jpg\")\n",
    "# img = cv2.imread(\"0_whatsappweb1_censored.jpg\")\n",
    "img = cv2.imread(\"good_thinking.jpg\")\n",
    "# img = cv2.imread(\"kaggle logo.png\")\n",
    "# img = cv2.imread(\"unnamed.png\")\n",
    "# img = cv2.imread(\"hello.png\")\n",
    "\n",
    "img = gray(img)\n",
    "# img = blur(img) # do not apply on good_thinking.jpg & ios13-iphone-xs-messages-sms-mms.jpg\n",
    "img = threshold(img)"
   ]
  },
  {
   "cell_type": "markdown",
   "id": "0c066bf8",
   "metadata": {},
   "source": [
    "## Converting Image to Text"
   ]
  },
  {
   "cell_type": "code",
   "execution_count": 14,
   "id": "684698dd",
   "metadata": {},
   "outputs": [
    {
     "name": "stdout",
     "output_type": "stream",
     "text": [
      "GOOD\n",
      "\n",
      "THINKING\n",
      "\n",
      "Seven Powerful Ideas\n",
      "\n",
      "‘That Influence the Way\n",
      "\n",
      "‘We Think\n",
      "\n",
      "DENISE D, CUMMINS\n",
      "\f",
      "\n"
     ]
    }
   ],
   "source": [
    "cv2.imshow(\"Image\", img)\n",
    "text = pytesseract.image_to_string(img, config='--oem 1 --psm 11')\n",
    "print(text)\n",
    "cv2.waitKey(0)\n",
    "cv2.destroyAllWindows()"
   ]
  },
  {
   "cell_type": "code",
   "execution_count": null,
   "id": "d015c5c4",
   "metadata": {},
   "outputs": [],
   "source": []
  }
 ],
 "metadata": {
  "kernelspec": {
   "display_name": "Python 3",
   "language": "python",
   "name": "python3"
  },
  "language_info": {
   "codemirror_mode": {
    "name": "ipython",
    "version": 3
   },
   "file_extension": ".py",
   "mimetype": "text/x-python",
   "name": "python",
   "nbconvert_exporter": "python",
   "pygments_lexer": "ipython3",
   "version": "3.8.8"
  }
 },
 "nbformat": 4,
 "nbformat_minor": 5
}
