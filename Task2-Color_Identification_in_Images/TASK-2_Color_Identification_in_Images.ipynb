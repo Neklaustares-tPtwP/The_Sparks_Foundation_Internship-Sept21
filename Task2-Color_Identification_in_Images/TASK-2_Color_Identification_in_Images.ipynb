{
 "cells": [
  {
   "cell_type": "markdown",
   "id": "03797e8b",
   "metadata": {},
   "source": [
    "# TASK-2: Color Identification in Images"
   ]
  },
  {
   "cell_type": "markdown",
   "id": "7f95517b",
   "metadata": {},
   "source": [
    "### AUTHOR: Subham Surana"
   ]
  },
  {
   "cell_type": "markdown",
   "id": "662e58d7",
   "metadata": {},
   "source": [
    "### PROBLEM STATEMENT: Implement an image color detector which identifies all the colors in an image/video"
   ]
  },
  {
   "cell_type": "markdown",
   "id": "febb2e41",
   "metadata": {},
   "source": [
    "## Importing Libraries"
   ]
  },
  {
   "cell_type": "code",
   "execution_count": 8,
   "id": "2321aa24",
   "metadata": {},
   "outputs": [],
   "source": [
    "import cv2\n",
    "import pandas as pd"
   ]
  },
  {
   "cell_type": "markdown",
   "id": "58ddd4f0",
   "metadata": {},
   "source": [
    "## Reading Image"
   ]
  },
  {
   "cell_type": "code",
   "execution_count": 9,
   "id": "d590a51a",
   "metadata": {},
   "outputs": [],
   "source": [
    "img_path = r'coloured image.jpg'\n",
    "img = cv2.imread(img_path)\n",
    "cv2.imshow(\"Image\", img)\n",
    "cv2.waitKey(0)\n",
    "cv2.destroyAllWindows()"
   ]
  },
  {
   "cell_type": "markdown",
   "id": "5a0e5f39",
   "metadata": {},
   "source": [
    "## Declaring global variables"
   ]
  },
  {
   "cell_type": "code",
   "execution_count": 10,
   "id": "f0dabfd3",
   "metadata": {},
   "outputs": [],
   "source": [
    "clicked = False\n",
    "r = g = b = x_pos = y_pos = 0"
   ]
  },
  {
   "cell_type": "markdown",
   "id": "c5ba2e00",
   "metadata": {},
   "source": [
    "## Reading .csv file containing all the color names"
   ]
  },
  {
   "cell_type": "code",
   "execution_count": 11,
   "id": "f9eda168",
   "metadata": {},
   "outputs": [],
   "source": [
    "index = [\"color\", \"color_name\", \"hex\", \"R\", \"G\", \"B\"]\n",
    "csv = pd.read_csv('colors.csv', names=index, header=None)"
   ]
  },
  {
   "cell_type": "markdown",
   "id": "d4fc2bdd",
   "metadata": {},
   "source": [
    "## Defining functions"
   ]
  },
  {
   "cell_type": "code",
   "execution_count": 12,
   "id": "ff43fddf",
   "metadata": {},
   "outputs": [],
   "source": [
    "#Function to compare the RGB values on (x,y) coordinates of the image\n",
    "#Returning the color name\n",
    "\n",
    "def get_color_name(R, G, B):\n",
    "    minimum = 10000\n",
    "    for i in range(len(csv)):\n",
    "        d = abs(R - int(csv.loc[i, \"R\"])) + abs(G - int(csv.loc[i, \"G\"])) + abs(B - int(csv.loc[i, \"B\"]))\n",
    "        if d <= minimum:\n",
    "            minimum = d\n",
    "            cname = csv.loc[i, \"color_name\"]\n",
    "    return cname"
   ]
  },
  {
   "cell_type": "code",
   "execution_count": 13,
   "id": "16e53fd0",
   "metadata": {},
   "outputs": [],
   "source": [
    "#Function to get the coordinates of the mouse pointer when double clicked on the image\n",
    "#Saving the RGB values on those coordinates into the variables\n",
    "\n",
    "def draw_function(event, x, y, flags, param):\n",
    "    if event == cv2.EVENT_LBUTTONDBLCLK:\n",
    "        global b, g, r, x_pos, y_pos, clicked\n",
    "        clicked = True\n",
    "        x_pos = x\n",
    "        y_pos = y\n",
    "        b, g, r = img[y, x]\n",
    "        b = int(b)\n",
    "        g = int(g)\n",
    "        r = int(r)"
   ]
  },
  {
   "cell_type": "markdown",
   "id": "2eb4bb63",
   "metadata": {},
   "source": [
    "## Identifying the colors in the image"
   ]
  },
  {
   "cell_type": "code",
   "execution_count": 14,
   "id": "86a90f46",
   "metadata": {},
   "outputs": [],
   "source": [
    "#Creating the window for image\n",
    "cv2.namedWindow('image')\n",
    "\n",
    "#Binding the draw_function to the mouse pointer\n",
    "cv2.setMouseCallback('image', draw_function)\n",
    "\n",
    "while True:\n",
    "    cv2.imshow('image', img)\n",
    "    if clicked:\n",
    "        #Making a colored strip to show our text on\n",
    "        cv2.rectangle(img, (20, 20), (750, 60), (b, g, r), -1)\n",
    "        \n",
    "        #Getting the color name and storing in text variable\n",
    "        txt = get_color_name(r, g, b) + ' R=' + str(r) + ' G=' + str(g) + ' B=' + str(b)\n",
    "        \n",
    "        #Putting the text onto the strip that we created above\n",
    "        cv2.putText(img, txt, (50, 50), 2, 0.8, (255, 255, 255), 2, cv2.LINE_AA)\n",
    "        \n",
    "        # For very light colours,displays text in black colour\n",
    "        if r + g + b >= 600:\n",
    "            cv2.putText(img, txt, (50, 50), 2, 0.8, (0, 0, 0), 2, cv2.LINE_AA)\n",
    "        clicked = False\n",
    "\n",
    "    # Break the loop when user hits 'esc' key\n",
    "    if cv2.waitKey(20) & 0xFF == 27:\n",
    "        break\n",
    "\n",
    "cv2.destroyAllWindows()"
   ]
  },
  {
   "cell_type": "code",
   "execution_count": null,
   "id": "58255f9d",
   "metadata": {},
   "outputs": [],
   "source": []
  }
 ],
 "metadata": {
  "kernelspec": {
   "display_name": "Python 3",
   "language": "python",
   "name": "python3"
  },
  "language_info": {
   "codemirror_mode": {
    "name": "ipython",
    "version": 3
   },
   "file_extension": ".py",
   "mimetype": "text/x-python",
   "name": "python",
   "nbconvert_exporter": "python",
   "pygments_lexer": "ipython3",
   "version": "3.8.8"
  }
 },
 "nbformat": 4,
 "nbformat_minor": 5
}
